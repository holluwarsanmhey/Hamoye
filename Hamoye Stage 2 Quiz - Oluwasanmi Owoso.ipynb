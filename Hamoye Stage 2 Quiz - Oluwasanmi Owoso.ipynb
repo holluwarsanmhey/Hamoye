{
 "cells": [
  {
   "cell_type": "code",
   "execution_count": 11,
   "metadata": {},
   "outputs": [],
   "source": [
    "import pandas as pd\n",
    "import numpy as np\n",
    "import matplotlib.pyplot as plt\n",
    "import seaborn as sns\n",
    "import sklearn\n",
    "from sklearn.preprocessing import MinMaxScaler\n",
    "from sklearn.model_selection import train_test_split\n",
    "from sklearn.linear_model import LinearRegression\n",
    "from sklearn.metrics import mean_absolute_error\n",
    "from sklearn.metrics import mean_squared_error\n",
    "from sklearn.metrics import r2_score"
   ]
  },
  {
   "cell_type": "code",
   "execution_count": 12,
   "metadata": {
    "scrolled": true
   },
   "outputs": [
    {
     "data": {
      "text/html": [
       "<div>\n",
       "<style scoped>\n",
       "    .dataframe tbody tr th:only-of-type {\n",
       "        vertical-align: middle;\n",
       "    }\n",
       "\n",
       "    .dataframe tbody tr th {\n",
       "        vertical-align: top;\n",
       "    }\n",
       "\n",
       "    .dataframe thead th {\n",
       "        text-align: right;\n",
       "    }\n",
       "</style>\n",
       "<table border=\"1\" class=\"dataframe\">\n",
       "  <thead>\n",
       "    <tr style=\"text-align: right;\">\n",
       "      <th></th>\n",
       "      <th>date</th>\n",
       "      <th>Appliances</th>\n",
       "      <th>lights</th>\n",
       "      <th>Temp_Kitchen_Area</th>\n",
       "      <th>Humidity_Kitchen_Area</th>\n",
       "      <th>Temp_Living_Room_Area</th>\n",
       "      <th>Humidity_Living_Room_Area</th>\n",
       "      <th>Temp_Laundry_Room_Area</th>\n",
       "      <th>Humidity_Laundry_Room_Area</th>\n",
       "      <th>Temp_Office_Room</th>\n",
       "      <th>...</th>\n",
       "      <th>Temp_Parent_Room</th>\n",
       "      <th>Humidity_Parent_Room</th>\n",
       "      <th>Temp_Outside</th>\n",
       "      <th>Press_mm_hg</th>\n",
       "      <th>Humidity_Outside</th>\n",
       "      <th>Windspeed</th>\n",
       "      <th>Visibility</th>\n",
       "      <th>Tdewpoint</th>\n",
       "      <th>Random_Variable_1</th>\n",
       "      <th>Random_Variable_2</th>\n",
       "    </tr>\n",
       "  </thead>\n",
       "  <tbody>\n",
       "    <tr>\n",
       "      <th>0</th>\n",
       "      <td>2016-01-11 17:00:00</td>\n",
       "      <td>60</td>\n",
       "      <td>30</td>\n",
       "      <td>19.89</td>\n",
       "      <td>47.596667</td>\n",
       "      <td>19.2</td>\n",
       "      <td>44.790000</td>\n",
       "      <td>19.79</td>\n",
       "      <td>44.730000</td>\n",
       "      <td>19.000000</td>\n",
       "      <td>...</td>\n",
       "      <td>17.033333</td>\n",
       "      <td>45.53</td>\n",
       "      <td>6.600000</td>\n",
       "      <td>733.5</td>\n",
       "      <td>92.0</td>\n",
       "      <td>7.000000</td>\n",
       "      <td>63.000000</td>\n",
       "      <td>5.3</td>\n",
       "      <td>13.275433</td>\n",
       "      <td>13.275433</td>\n",
       "    </tr>\n",
       "    <tr>\n",
       "      <th>1</th>\n",
       "      <td>2016-01-11 17:10:00</td>\n",
       "      <td>60</td>\n",
       "      <td>30</td>\n",
       "      <td>19.89</td>\n",
       "      <td>46.693333</td>\n",
       "      <td>19.2</td>\n",
       "      <td>44.722500</td>\n",
       "      <td>19.79</td>\n",
       "      <td>44.790000</td>\n",
       "      <td>19.000000</td>\n",
       "      <td>...</td>\n",
       "      <td>17.066667</td>\n",
       "      <td>45.56</td>\n",
       "      <td>6.483333</td>\n",
       "      <td>733.6</td>\n",
       "      <td>92.0</td>\n",
       "      <td>6.666667</td>\n",
       "      <td>59.166667</td>\n",
       "      <td>5.2</td>\n",
       "      <td>18.606195</td>\n",
       "      <td>18.606195</td>\n",
       "    </tr>\n",
       "    <tr>\n",
       "      <th>2</th>\n",
       "      <td>2016-01-11 17:20:00</td>\n",
       "      <td>50</td>\n",
       "      <td>30</td>\n",
       "      <td>19.89</td>\n",
       "      <td>46.300000</td>\n",
       "      <td>19.2</td>\n",
       "      <td>44.626667</td>\n",
       "      <td>19.79</td>\n",
       "      <td>44.933333</td>\n",
       "      <td>18.926667</td>\n",
       "      <td>...</td>\n",
       "      <td>17.000000</td>\n",
       "      <td>45.50</td>\n",
       "      <td>6.366667</td>\n",
       "      <td>733.7</td>\n",
       "      <td>92.0</td>\n",
       "      <td>6.333333</td>\n",
       "      <td>55.333333</td>\n",
       "      <td>5.1</td>\n",
       "      <td>28.642668</td>\n",
       "      <td>28.642668</td>\n",
       "    </tr>\n",
       "    <tr>\n",
       "      <th>3</th>\n",
       "      <td>2016-01-11 17:30:00</td>\n",
       "      <td>50</td>\n",
       "      <td>40</td>\n",
       "      <td>19.89</td>\n",
       "      <td>46.066667</td>\n",
       "      <td>19.2</td>\n",
       "      <td>44.590000</td>\n",
       "      <td>19.79</td>\n",
       "      <td>45.000000</td>\n",
       "      <td>18.890000</td>\n",
       "      <td>...</td>\n",
       "      <td>17.000000</td>\n",
       "      <td>45.40</td>\n",
       "      <td>6.250000</td>\n",
       "      <td>733.8</td>\n",
       "      <td>92.0</td>\n",
       "      <td>6.000000</td>\n",
       "      <td>51.500000</td>\n",
       "      <td>5.0</td>\n",
       "      <td>45.410389</td>\n",
       "      <td>45.410389</td>\n",
       "    </tr>\n",
       "    <tr>\n",
       "      <th>4</th>\n",
       "      <td>2016-01-11 17:40:00</td>\n",
       "      <td>60</td>\n",
       "      <td>40</td>\n",
       "      <td>19.89</td>\n",
       "      <td>46.333333</td>\n",
       "      <td>19.2</td>\n",
       "      <td>44.530000</td>\n",
       "      <td>19.79</td>\n",
       "      <td>45.000000</td>\n",
       "      <td>18.890000</td>\n",
       "      <td>...</td>\n",
       "      <td>17.000000</td>\n",
       "      <td>45.40</td>\n",
       "      <td>6.133333</td>\n",
       "      <td>733.9</td>\n",
       "      <td>92.0</td>\n",
       "      <td>5.666667</td>\n",
       "      <td>47.666667</td>\n",
       "      <td>4.9</td>\n",
       "      <td>10.084097</td>\n",
       "      <td>10.084097</td>\n",
       "    </tr>\n",
       "  </tbody>\n",
       "</table>\n",
       "<p>5 rows × 29 columns</p>\n",
       "</div>"
      ],
      "text/plain": [
       "                  date  Appliances  lights  Temp_Kitchen_Area  \\\n",
       "0  2016-01-11 17:00:00          60      30              19.89   \n",
       "1  2016-01-11 17:10:00          60      30              19.89   \n",
       "2  2016-01-11 17:20:00          50      30              19.89   \n",
       "3  2016-01-11 17:30:00          50      40              19.89   \n",
       "4  2016-01-11 17:40:00          60      40              19.89   \n",
       "\n",
       "   Humidity_Kitchen_Area  Temp_Living_Room_Area  Humidity_Living_Room_Area  \\\n",
       "0              47.596667                   19.2                  44.790000   \n",
       "1              46.693333                   19.2                  44.722500   \n",
       "2              46.300000                   19.2                  44.626667   \n",
       "3              46.066667                   19.2                  44.590000   \n",
       "4              46.333333                   19.2                  44.530000   \n",
       "\n",
       "   Temp_Laundry_Room_Area  Humidity_Laundry_Room_Area  Temp_Office_Room  ...  \\\n",
       "0                   19.79                   44.730000         19.000000  ...   \n",
       "1                   19.79                   44.790000         19.000000  ...   \n",
       "2                   19.79                   44.933333         18.926667  ...   \n",
       "3                   19.79                   45.000000         18.890000  ...   \n",
       "4                   19.79                   45.000000         18.890000  ...   \n",
       "\n",
       "   Temp_Parent_Room  Humidity_Parent_Room  Temp_Outside  Press_mm_hg  \\\n",
       "0         17.033333                 45.53      6.600000        733.5   \n",
       "1         17.066667                 45.56      6.483333        733.6   \n",
       "2         17.000000                 45.50      6.366667        733.7   \n",
       "3         17.000000                 45.40      6.250000        733.8   \n",
       "4         17.000000                 45.40      6.133333        733.9   \n",
       "\n",
       "   Humidity_Outside  Windspeed  Visibility  Tdewpoint  Random_Variable_1  \\\n",
       "0              92.0   7.000000   63.000000        5.3          13.275433   \n",
       "1              92.0   6.666667   59.166667        5.2          18.606195   \n",
       "2              92.0   6.333333   55.333333        5.1          28.642668   \n",
       "3              92.0   6.000000   51.500000        5.0          45.410389   \n",
       "4              92.0   5.666667   47.666667        4.9          10.084097   \n",
       "\n",
       "   Random_Variable_2  \n",
       "0          13.275433  \n",
       "1          18.606195  \n",
       "2          28.642668  \n",
       "3          45.410389  \n",
       "4          10.084097  \n",
       "\n",
       "[5 rows x 29 columns]"
      ]
     },
     "execution_count": 12,
     "metadata": {},
     "output_type": "execute_result"
    }
   ],
   "source": [
    "df = pd.read_csv('https://archive.ics.uci.edu/ml/machine-learning-databases/00374/energydata_complete.csv')\n",
    "column_names = {'T1': 'Temp_Kitchen_Area', 'RH_1': 'Humidity_Kitchen_Area', \n",
    "                'T2': 'Temp_Living_Room_Area','RH_2': 'Humidity_Living_Room_Area',\n",
    "                'T3': 'Temp_Laundry_Room_Area', 'RH_3': 'Humidity_Laundry_Room_Area',\n",
    "                'T4': 'Temp_Office_Room', 'RH_4': 'Humidity_Office_Room',\n",
    "                'T5': 'Temp_Bathroom', 'RH_5': 'Humidity_Bathroom',\n",
    "                'T6': 'Temp_Outside_Building', 'RH_6': 'Humidity_Outside_Building',\n",
    "                'T7': 'Temp_Ironing_Room', 'RH_7': 'Humidity_Ironing_Room',\n",
    "                'T8': 'Temp_Teenager_Room', 'RH_8': 'Humidity_Teenager_Room',\n",
    "                'T9': 'Temp_Parent_Room', 'RH_9': 'Humidity_Parent_Room',\n",
    "                'T_out': 'Temp_Outside', 'RH_out': 'Humidity_Outside',\n",
    "                'rv1': 'Random_Variable_1', 'rv2': 'Random_Variable_2'}\n",
    "df = df.rename(columns=column_names)\n",
    "df.head()"
   ]
  },
  {
   "cell_type": "code",
   "execution_count": 35,
   "metadata": {},
   "outputs": [
    {
     "name": "stdout",
     "output_type": "stream",
     "text": [
      "   Temp_Living_Room_Area  Temp_Outside_Building\n",
      "0                   19.2               7.026667\n",
      "1                   19.2               6.833333\n",
      "2                   19.2               6.560000\n",
      "3                   19.2               6.433333\n",
      "4                   19.2               6.366667\n"
     ]
    }
   ],
   "source": [
    "df = df[['Temp_Living_Room_Area', 'Temp_Outside_Building']].copy()\n",
    "print(df.head())"
   ]
  },
  {
   "cell_type": "code",
   "execution_count": 37,
   "metadata": {},
   "outputs": [],
   "source": [
    "scaler = MinMaxScaler()\n",
    "normalised_df = pd.DataFrame(scaler.fit_transform(df), columns=df.columns)\n",
    "T2 = normalised_df.drop(columns=['Temp_Outside_Building'])\n",
    "T6 = normalised_df['Temp_Outside_Building']"
   ]
  },
  {
   "cell_type": "code",
   "execution_count": 39,
   "metadata": {},
   "outputs": [],
   "source": [
    "x_train, x_test, y_train, y_test = train_test_split(T2,T6, test_size = 0.3, random_state=42)\n",
    "\n",
    "linear_model = LinearRegression()\n",
    "linear_model.fit(x_train, y_train)\n",
    "predicted_values = linear_model.predict(x_test)"
   ]
  },
  {
   "cell_type": "code",
   "execution_count": 40,
   "metadata": {},
   "outputs": [
    {
     "data": {
      "text/plain": [
       "0.64"
      ]
     },
     "execution_count": 40,
     "metadata": {},
     "output_type": "execute_result"
    }
   ],
   "source": [
    "#R squared\n",
    "from sklearn.metrics import r2_score\n",
    "r2_score = r2_score(y_test, predicted_values)\n",
    "round(r2_score, 2) "
   ]
  },
  {
   "cell_type": "code",
   "execution_count": 42,
   "metadata": {},
   "outputs": [
    {
     "data": {
      "text/plain": [
       "0.08"
      ]
     },
     "execution_count": 42,
     "metadata": {},
     "output_type": "execute_result"
    }
   ],
   "source": [
    "predicted_values = linear_model.predict(x_test)\n",
    "mae = mean_absolute_error(y_test, predicted_values)\n",
    "round(mae, 2)"
   ]
  },
  {
   "cell_type": "code",
   "execution_count": 45,
   "metadata": {},
   "outputs": [
    {
     "data": {
      "text/plain": [
       "66.12"
      ]
     },
     "execution_count": 45,
     "metadata": {},
     "output_type": "execute_result"
    }
   ],
   "source": [
    "#RSS\n",
    "rss = np.sum(np.square(y_test - predicted_values))\n",
    "round(rss, 2)"
   ]
  },
  {
   "cell_type": "code",
   "execution_count": 46,
   "metadata": {},
   "outputs": [
    {
     "data": {
      "text/plain": [
       "0.106"
      ]
     },
     "execution_count": 46,
     "metadata": {},
     "output_type": "execute_result"
    }
   ],
   "source": [
    "#RMSE\n",
    "from sklearn.metrics import mean_squared_error\n",
    "rmse = np.sqrt(mean_squared_error(y_test, predicted_values))\n",
    "round(rmse, 3) "
   ]
  },
  {
   "cell_type": "code",
   "execution_count": 49,
   "metadata": {
    "scrolled": true
   },
   "outputs": [
    {
     "data": {
      "text/plain": [
       "Lasso(alpha=0.001, copy_X=True, fit_intercept=True, max_iter=1000,\n",
       "      normalize=False, positive=False, precompute=False, random_state=None,\n",
       "      selection='cyclic', tol=0.0001, warm_start=False)"
      ]
     },
     "execution_count": 49,
     "metadata": {},
     "output_type": "execute_result"
    }
   ],
   "source": [
    "from sklearn.linear_model import Lasso\n",
    "lasso_reg = Lasso(alpha=0.001)\n",
    "lasso_reg.fit(x_train, y_train)"
   ]
  },
  {
   "cell_type": "code",
   "execution_count": 50,
   "metadata": {},
   "outputs": [
    {
     "data": {
      "text/plain": [
       "0.106"
      ]
     },
     "execution_count": 50,
     "metadata": {},
     "output_type": "execute_result"
    }
   ],
   "source": [
    "#New RMSE\n",
    "from sklearn.metrics import mean_squared_error\n",
    "rmse = np.sqrt(mean_squared_error(y_test, predicted_values))\n",
    "round(rmse, 3) "
   ]
  },
  {
   "cell_type": "code",
   "execution_count": null,
   "metadata": {},
   "outputs": [],
   "source": []
  }
 ],
 "metadata": {
  "kernelspec": {
   "display_name": "Python 3",
   "language": "python",
   "name": "python3"
  },
  "language_info": {
   "codemirror_mode": {
    "name": "ipython",
    "version": 3
   },
   "file_extension": ".py",
   "mimetype": "text/x-python",
   "name": "python",
   "nbconvert_exporter": "python",
   "pygments_lexer": "ipython3",
   "version": "3.7.3"
  }
 },
 "nbformat": 4,
 "nbformat_minor": 2
}
